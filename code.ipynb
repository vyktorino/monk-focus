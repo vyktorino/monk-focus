{
 "cells": [
  {
   "cell_type": "code",
   "execution_count": 1,
   "metadata": {},
   "outputs": [],
   "source": [
    "import os\n",
    "import pandas as pd\n",
    "from pathlib import Path"
   ]
  },
  {
   "cell_type": "code",
   "execution_count": 2,
   "metadata": {},
   "outputs": [],
   "source": [
    "path = os.path.abspath(r\"C:\\Users\\Bambadjan\\Desktop\\中文\\HSK4\")\n",
    "list_df = []\n",
    "all_chapter_list = [str(i) for i in range(1, 37)]\n",
    "chapter_list = [str(i) for i in range(10, 17)]\n",
    "remaining_chapter_list = [str(i) for i in all_chapter_list if i not in chapter_list]\n",
    "for root, dir, files in os.walk(path):\n",
    "    for file in files:\n",
    "        p = Path(os.path.join(root, file))\n",
    "        if p.suffix == \".xlsx\":\n",
    "            chapter_nb = p.parents[0].stem.split(\" \")[0]\n",
    "            if chapter_nb in chapter_list:\n",
    "                # print(chapter_nb)\n",
    "                tmp_df = pd.read_excel(p)\n",
    "                tmp_df[\"type\"] = tmp_df[\"meaning\"].apply(lambda x: x.split(\".\")[0])\n",
    "                tmp_df[\"meaning\"] = tmp_df[\"meaning\"].apply(\n",
    "                    lambda x: x.split(\".\")[1] if len(x.split(\".\")) > 1 else x\n",
    "                )\n",
    "                tmp_df[\"chapter\"] = chapter_nb\n",
    "            elif chapter_nb in remaining_chapter_list:\n",
    "                # print(chapter_nb)\n",
    "                tmp_df = pd.read_excel(p)\n",
    "                tmp_df = tmp_df[~tmp_df[\"character\"].isna()]\n",
    "            else:\n",
    "                continue\n",
    "            tmp_df[\"back_card\"] = (\n",
    "                tmp_df[\"pinyin\"]\n",
    "                + \" \"\n",
    "                + tmp_df[\"type\"]\n",
    "                + \" \"\n",
    "                + tmp_df[\"meaning\"]\n",
    "                + \" \"\n",
    "                + tmp_df[\"chapter\"].astype(str)\n",
    "            )\n",
    "            tmp_df = tmp_df[\n",
    "                [\"character\", \"pinyin\", \"type\", \"meaning\", \"chapter\", \"back_card\"]\n",
    "            ]\n",
    "            list_df.append(tmp_df)\n",
    "\n",
    "            save_path = os.path.join(path, p.stem, str(p.stem) + \".csv\")\n",
    "            tmp_df.to_csv(save_path, encoding=\"utf-8\", index=False)\n",
    "df = (\n",
    "    pd.concat(list_df)\n",
    "    .astype({\"chapter\": int})\n",
    "    .sort_values(\"chapter\")\n",
    "    .reset_index(drop=True)\n",
    ")\n",
    "# df.to_excel(\"hsk4_complete_vocab.xlsx\", index=0)\n",
    "# df.to_csv(\"hsk4_complete_vocab.csv\", index=0)"
   ]
  },
  {
   "cell_type": "code",
   "execution_count": 2,
   "metadata": {},
   "outputs": [
    {
     "name": "stdout",
     "output_type": "stream",
     "text": [
      "C:\\Users\\Bambadjan\\Desktop\\中文\\HSK5\\1 爱的细节\\1 爱的细节.xlsx\n",
      "C:\\Users\\Bambadjan\\Desktop\\中文\\HSK5\\2 留串钥匙给父母\\2 留串钥匙给父母.xlsx\n",
      "C:\\Users\\Bambadjan\\Desktop\\中文\\HSK5\\3 人生有选择，一切可改变\\3 人生有选择，一切可改变.xlsx\n"
     ]
    }
   ],
   "source": [
    "path = os.path.abspath(r\"C:\\Users\\Bambadjan\\Desktop\\中文\\HSK5\")\n",
    "list_df = []\n",
    "for root, dir, files in os.walk(path):\n",
    "    for file in files:\n",
    "        p = Path(os.path.join(root, file))\n",
    "        if p.suffix == \".xlsx\":\n",
    "            print(p)\n",
    "            tmp_df = pd.read_excel(p)\n",
    "            tmp_df = tmp_df[~tmp_df[\"character\"].isna()]\n",
    "\n",
    "            tmp_df[\"back_card\"] = (\n",
    "                tmp_df[\"pinyin\"]\n",
    "                + \" \"\n",
    "                + tmp_df[\"type\"]\n",
    "                + \" \"\n",
    "                + tmp_df[\"meaning\"]\n",
    "                + \" \"\n",
    "                + tmp_df[\"chapter\"].astype(str)\n",
    "            )\n",
    "            tmp_df = tmp_df[\n",
    "                [\"character\", \"pinyin\", \"type\", \"meaning\", \"chapter\", \"back_card\"]\n",
    "            ]\n",
    "            list_df.append(tmp_df)\n",
    "\n",
    "            save_path = os.path.join(path, p.stem, str(p.stem) + \".csv\")\n",
    "            tmp_df.to_csv(save_path, encoding=\"utf-8\", index=False)\n",
    "df = (\n",
    "    pd.concat(list_df)\n",
    "    .astype({\"chapter\": int})\n",
    "    .sort_values(\"chapter\")\n",
    "    .reset_index(drop=True)\n",
    ")\n",
    "# df.to_excel(\"hsk4_complete_vocab.xlsx\", index=0)\n",
    "# df.to_csv(\"hsk4_complete_vocab.csv\", index=0)"
   ]
  },
  {
   "cell_type": "code",
   "execution_count": 3,
   "metadata": {},
   "outputs": [
    {
     "data": {
      "text/plain": [
       "(121, 6)"
      ]
     },
     "execution_count": 3,
     "metadata": {},
     "output_type": "execute_result"
    }
   ],
   "source": [
    "df.shape"
   ]
  }
 ],
 "metadata": {
  "kernelspec": {
   "display_name": "Python 3",
   "language": "python",
   "name": "python3"
  },
  "language_info": {
   "codemirror_mode": {
    "name": "ipython",
    "version": 3
   },
   "file_extension": ".py",
   "mimetype": "text/x-python",
   "name": "python",
   "nbconvert_exporter": "python",
   "pygments_lexer": "ipython3",
   "version": "3.12.0"
  }
 },
 "nbformat": 4,
 "nbformat_minor": 2
}
